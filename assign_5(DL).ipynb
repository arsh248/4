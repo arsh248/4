{
 "cells": [
  {
   "cell_type": "code",
   "execution_count": 1,
   "metadata": {},
   "outputs": [],
   "source": [
    "from keras.models import Sequential, Model\n",
    "from keras.layers import Input, Dense, Conv2D, Dropout, Flatten, Conv2DTranspose, BatchNormalization, LeakyReLU, Reshape\n",
    "from keras.datasets import fashion_mnist\n",
    "import numpy as np\n",
    "import matplotlib.pyplot as plt\n",
    "import tensorflow as tf"
   ]
  },
  {
   "cell_type": "code",
   "execution_count": null,
   "metadata": {},
   "outputs": [],
   "source": [
    "# Load and preprocess the Fashion MNIST dataset\n",
    "(train_x, train_y), (val_x, val_y) = fashion_mnist.load_data()\n",
    "train_x = train_x / 255.0\n",
    "val_x = val_x / 255.0\n",
    "train_x = train_x.reshape(-1, 28, 28, 1)"
   ]
  },
  {
   "cell_type": "code",
   "execution_count": null,
   "metadata": {},
   "outputs": [],
   "source": [
    "# Display some samples of the dataset\n",
    "fig, axe = plt.subplots(2, 2)\n",
    "idx = 0\n",
    "for i in range(2):\n",
    "    for j in range(2):\n",
    "        axe[i, j].imshow(train_x[idx].reshape(28, 28), cmap='gray')\n",
    "        idx += 1\n",
    "\n",
    "# Normalize data to range [-1, 1]\n",
    "train_x = train_x * 2 - 1\n",
    "print(train_x.max(), train_x.min())"
   ]
  },
  {
   "cell_type": "code",
   "execution_count": null,
   "metadata": {},
   "outputs": [],
   "source": [
    "# Define the generator model\n",
    "generator = Sequential([\n",
    "    Dense(512, input_shape=[100]),\n",
    "    LeakyReLU(alpha=0.2),\n",
    "    BatchNormalization(momentum=0.8),\n",
    "    Dense(256),\n",
    "    LeakyReLU(alpha=0.2),\n",
    "    BatchNormalization(momentum=0.8),\n",
    "    Dense(128),\n",
    "    LeakyReLU(alpha=0.2),\n",
    "    BatchNormalization(momentum=0.8),\n",
    "    Dense(784),\n",
    "    Reshape([28, 28, 1])\n",
    "])\n",
    "generator.summary()"
   ]
  },
  {
   "cell_type": "code",
   "execution_count": null,
   "metadata": {},
   "outputs": [],
   "source": [
    "# Define the discriminator model\n",
    "discriminator = Sequential([\n",
    "    Dense(1, input_shape=[28, 28, 1]),\n",
    "    Flatten(),\n",
    "    Dense(256),\n",
    "    LeakyReLU(alpha=0.2),\n",
    "    Dropout(0.5),\n",
    "    Dense(128),\n",
    "    LeakyReLU(alpha=0.2),\n",
    "    Dropout(0.5),\n",
    "    Dense(64),\n",
    "    LeakyReLU(alpha=0.2),\n",
    "    Dropout(0.5),\n",
    "    Dense(1, activation='sigmoid')\n",
    "])\n",
    "discriminator.summary()"
   ]
  },
  {
   "cell_type": "code",
   "execution_count": null,
   "metadata": {},
   "outputs": [],
   "source": [
    "# Combine generator and discriminator into a GAN model\n",
    "GAN = Sequential([generator, discriminator])"
   ]
  },
  {
   "cell_type": "code",
   "execution_count": null,
   "metadata": {},
   "outputs": [],
   "source": [
    "# Compile the discriminator model\n",
    "discriminator.compile(optimizer='adam', loss='binary_crossentropy')"
   ]
  },
  {
   "cell_type": "code",
   "execution_count": null,
   "metadata": {},
   "outputs": [],
   "source": [
    "# Set discriminator as non-trainable before compiling GAN\n",
    "discriminator.trainable = False"
   ]
  },
  {
   "cell_type": "code",
   "execution_count": null,
   "metadata": {},
   "outputs": [],
   "source": [
    "# Compile the GAN model\n",
    "GAN.compile(optimizer='adam', loss='binary_crossentropy')\n",
    "GAN.summary()"
   ]
  },
  {
   "cell_type": "code",
   "execution_count": null,
   "metadata": {},
   "outputs": [],
   "source": [
    "epochs = 30\n",
    "batch_size = 100\n",
    "noise_shape = 100\n",
    "\n",
    "# Training loop\n",
    "with tf.device('/gpu:0'):\n",
    "    for epoch in range(epochs):\n",
    "        print(f\"Currently on Epoch {epoch + 1}\")\n",
    "        for i in range(train_x.shape[0] // batch_size):\n",
    "            if (i + 1) % 100 == 0:\n",
    "                print(f\"\\tCurrently on batch number {i + 1} of {train_x.shape[0] // batch_size}\")\n",
    "            noise = np.random.normal(size=[batch_size, noise_shape])\n",
    "            gen_image = generator.predict_on_batch(noise)\n",
    "            train_dataset = train_x[i * batch_size: (i + 1) * batch_size]\n",
    "            train_label = np.ones(shape=(batch_size, 1))\n",
    "            d_loss_real = discriminator.train_on_batch(train_dataset, train_label)\n",
    "            train_label = np.zeros(shape=(batch_size, 1))\n",
    "            d_loss_fake = discriminator.train_on_batch(gen_image, train_label)\n",
    "            noise = np.random.normal(size=[batch_size, noise_shape])\n",
    "            train_label = np.ones(shape=(batch_size, 1))\n",
    "            d_g_loss_batch = GAN.train_on_batch(noise, train_label)\n",
    "        if epoch % 10 == 0:\n",
    "            samples = 10\n",
    "            x_fake = generator.predict(np.random.normal(loc=0, scale=1, size=(samples, 100)))\n",
    "            for k in range(samples):\n",
    "                plt.subplot(2, 5, k + 1)\n",
    "                plt.imshow(x_fake[k].reshape(28, 28), cmap='gray')\n",
    "                plt.xticks([])\n",
    "                plt.yticks([])\n",
    "            plt.tight_layout()\n",
    "            plt.show()\n",
    "\n",
    "print('Training is complete')"
   ]
  },
  {
   "cell_type": "code",
   "execution_count": null,
   "metadata": {},
   "outputs": [],
   "source": [
    "# Generate images from noise\n",
    "noise = np.random.normal(size=[10, noise_shape])\n",
    "gen_image = generator.predict(noise)"
   ]
  },
  {
   "cell_type": "code",
   "execution_count": null,
   "metadata": {},
   "outputs": [],
   "source": [
    "# Display generated images\n",
    "fig, axe = plt.subplots(2, 5)\n",
    "fig.suptitle('Generated Images from Noise using GANs')\n",
    "idx = 0\n",
    "for i in range(2):\n",
    "    for j in range(5):\n",
    "        axe[i, j].imshow(gen_image[idx].reshape(28, 28), cmap='gray')\n",
    "        idx += 1\n",
    "plt.show()"
   ]
  },
  {
   "cell_type": "code",
   "execution_count": 4,
   "metadata": {},
   "outputs": [
    {
     "ename": "ValueError",
     "evalue": "Can't parse the file name from the origin provided: ''.Please specify the `fname` as the input param.",
     "output_type": "error",
     "traceback": [
      "\u001b[0;31m---------------------------------------------------------------------------\u001b[0m",
      "\u001b[0;31mValueError\u001b[0m                                Traceback (most recent call last)",
      "\u001b[1;32m/Users/arshdeepsingh/Documents/CL4_codes/assign_5(DL).ipynb Cell 13\u001b[0m line \u001b[0;36m2\n\u001b[1;32m      <a href='vscode-notebook-cell:/Users/arshdeepsingh/Documents/CL4_codes/assign_5%28DL%29.ipynb#X25sZmlsZQ%3D%3D?line=0'>1</a>\u001b[0m \u001b[39mimport\u001b[39;00m \u001b[39mtensorflow\u001b[39;00m \u001b[39mas\u001b[39;00m \u001b[39mtf\u001b[39;00m\n\u001b[0;32m----> <a href='vscode-notebook-cell:/Users/arshdeepsingh/Documents/CL4_codes/assign_5%28DL%29.ipynb#X25sZmlsZQ%3D%3D?line=1'>2</a>\u001b[0m \u001b[39mprint\u001b[39m(tf\u001b[39m.\u001b[39;49mkeras\u001b[39m.\u001b[39;49mutils\u001b[39m.\u001b[39;49mget_file(\u001b[39m'\u001b[39;49m\u001b[39m'\u001b[39;49m, \u001b[39m'\u001b[39;49m\u001b[39m'\u001b[39;49m))\n",
      "File \u001b[0;32m/Library/Frameworks/Python.framework/Versions/3.11/lib/python3.11/site-packages/keras/src/utils/data_utils.py:284\u001b[0m, in \u001b[0;36mget_file\u001b[0;34m(fname, origin, untar, md5_hash, file_hash, cache_subdir, hash_algorithm, extract, archive_format, cache_dir)\u001b[0m\n\u001b[1;32m    282\u001b[0m     fname \u001b[39m=\u001b[39m os\u001b[39m.\u001b[39mpath\u001b[39m.\u001b[39mbasename(urlsplit(origin)\u001b[39m.\u001b[39mpath)\n\u001b[1;32m    283\u001b[0m     \u001b[39mif\u001b[39;00m \u001b[39mnot\u001b[39;00m fname:\n\u001b[0;32m--> 284\u001b[0m         \u001b[39mraise\u001b[39;00m \u001b[39mValueError\u001b[39;00m(\n\u001b[1;32m    285\u001b[0m             \u001b[39m\"\u001b[39m\u001b[39mCan\u001b[39m\u001b[39m'\u001b[39m\u001b[39mt parse the file name from the origin provided: \u001b[39m\u001b[39m\"\u001b[39m\n\u001b[1;32m    286\u001b[0m             \u001b[39mf\u001b[39m\u001b[39m\"\u001b[39m\u001b[39m'\u001b[39m\u001b[39m{\u001b[39;00morigin\u001b[39m}\u001b[39;00m\u001b[39m'\u001b[39m\u001b[39m.\u001b[39m\u001b[39m\"\u001b[39m\n\u001b[1;32m    287\u001b[0m             \u001b[39m\"\u001b[39m\u001b[39mPlease specify the `fname` as the input param.\u001b[39m\u001b[39m\"\u001b[39m\n\u001b[1;32m    288\u001b[0m         )\n\u001b[1;32m    290\u001b[0m \u001b[39mif\u001b[39;00m untar:\n\u001b[1;32m    291\u001b[0m     \u001b[39mif\u001b[39;00m fname\u001b[39m.\u001b[39mendswith(\u001b[39m\"\u001b[39m\u001b[39m.tar.gz\u001b[39m\u001b[39m\"\u001b[39m):\n",
      "\u001b[0;31mValueError\u001b[0m: Can't parse the file name from the origin provided: ''.Please specify the `fname` as the input param."
     ]
    }
   ],
   "source": [
    "import tensorflow as tf\n",
    "print(tf.keras.utils.get_file('', ''))\n"
   ]
  },
  {
   "cell_type": "code",
   "execution_count": null,
   "metadata": {},
   "outputs": [],
   "source": []
  }
 ],
 "metadata": {
  "kernelspec": {
   "display_name": "Python 3",
   "language": "python",
   "name": "python3"
  },
  "language_info": {
   "codemirror_mode": {
    "name": "ipython",
    "version": 3
   },
   "file_extension": ".py",
   "mimetype": "text/x-python",
   "name": "python",
   "nbconvert_exporter": "python",
   "pygments_lexer": "ipython3",
   "version": "3.11.3"
  }
 },
 "nbformat": 4,
 "nbformat_minor": 2
}

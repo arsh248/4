{
 "cells": [
  {
   "cell_type": "code",
   "execution_count": 2,
   "metadata": {},
   "outputs": [],
   "source": [
    "import tensorflow as tf \n",
    "from tensorflow.keras.datasets import cifar10\n",
    "from tensorflow.keras.models import Sequential\n",
    "from tensorflow.keras.layers import Conv2D, MaxPooling2D, Flatten, Dense,Dropout"
   ]
  },
  {
   "cell_type": "code",
   "execution_count": 3,
   "metadata": {},
   "outputs": [],
   "source": [
    "(x_train,y_train), (x_test,y_test) = cifar10.load_data()"
   ]
  },
  {
   "cell_type": "code",
   "execution_count": 4,
   "metadata": {},
   "outputs": [],
   "source": [
    "x_train = x_train/255.0\n",
    "x_test = x_test/255.0"
   ]
  },
  {
   "cell_type": "code",
   "execution_count": 5,
   "metadata": {},
   "outputs": [],
   "source": [
    "model = Sequential([\n",
    "    Conv2D(32,(3,3), activation='relu', input_shape=(32,32,3)),\n",
    "    MaxPooling2D((2,2)),\n",
    "    Conv2D(64,(3,3), activation='relu'),\n",
    "    MaxPooling2D((2,2)),\n",
    "    Conv2D(128,(3,3), activation='relu'),\n",
    "    Flatten(),\n",
    "    Dense(64, activation='relu'),\n",
    "    Dropout(0.5),\n",
    "    Dense(10, activation='softmax')\n",
    "])"
   ]
  },
  {
   "cell_type": "code",
   "execution_count": 6,
   "metadata": {},
   "outputs": [],
   "source": [
    "model.compile(optimizer='adam', loss= 'sparse_categorical_crossentropy', metrics=['accuracy'])"
   ]
  },
  {
   "cell_type": "code",
   "execution_count": 7,
   "metadata": {},
   "outputs": [
    {
     "name": "stdout",
     "output_type": "stream",
     "text": [
      "Epoch 1/20\n",
      "391/391 [==============================] - 11s 26ms/step - loss: 1.8593 - accuracy: 0.3054 - val_loss: 1.5362 - val_accuracy: 0.4536\n",
      "Epoch 2/20\n",
      "391/391 [==============================] - 11s 27ms/step - loss: 1.5236 - accuracy: 0.4473 - val_loss: 1.3228 - val_accuracy: 0.5209\n",
      "Epoch 3/20\n",
      "391/391 [==============================] - 11s 28ms/step - loss: 1.3593 - accuracy: 0.5144 - val_loss: 1.1618 - val_accuracy: 0.5868\n",
      "Epoch 4/20\n",
      "391/391 [==============================] - 12s 32ms/step - loss: 1.2625 - accuracy: 0.5551 - val_loss: 1.1147 - val_accuracy: 0.6064\n",
      "Epoch 5/20\n",
      "391/391 [==============================] - 11s 28ms/step - loss: 1.1740 - accuracy: 0.5889 - val_loss: 1.0420 - val_accuracy: 0.6324\n",
      "Epoch 6/20\n",
      "391/391 [==============================] - 12s 30ms/step - loss: 1.1057 - accuracy: 0.6145 - val_loss: 0.9876 - val_accuracy: 0.6496\n",
      "Epoch 7/20\n",
      "391/391 [==============================] - 11s 29ms/step - loss: 1.0631 - accuracy: 0.6307 - val_loss: 0.9284 - val_accuracy: 0.6708\n",
      "Epoch 8/20\n",
      "391/391 [==============================] - 12s 30ms/step - loss: 1.0176 - accuracy: 0.6473 - val_loss: 0.9559 - val_accuracy: 0.6638\n",
      "Epoch 9/20\n",
      "391/391 [==============================] - 12s 30ms/step - loss: 0.9732 - accuracy: 0.6638 - val_loss: 0.8951 - val_accuracy: 0.6884\n",
      "Epoch 10/20\n",
      "391/391 [==============================] - 12s 30ms/step - loss: 0.9247 - accuracy: 0.6805 - val_loss: 0.9358 - val_accuracy: 0.6748\n",
      "Epoch 11/20\n",
      "391/391 [==============================] - 12s 32ms/step - loss: 0.8977 - accuracy: 0.6877 - val_loss: 0.8458 - val_accuracy: 0.7047\n",
      "Epoch 12/20\n",
      "391/391 [==============================] - 12s 31ms/step - loss: 0.8630 - accuracy: 0.7003 - val_loss: 0.8304 - val_accuracy: 0.7159\n",
      "Epoch 13/20\n",
      "391/391 [==============================] - 12s 30ms/step - loss: 0.8463 - accuracy: 0.7050 - val_loss: 0.8428 - val_accuracy: 0.7160\n",
      "Epoch 14/20\n",
      "391/391 [==============================] - 12s 30ms/step - loss: 0.8125 - accuracy: 0.7153 - val_loss: 0.8272 - val_accuracy: 0.7141\n",
      "Epoch 15/20\n",
      "391/391 [==============================] - 12s 31ms/step - loss: 0.7949 - accuracy: 0.7225 - val_loss: 0.8271 - val_accuracy: 0.7178\n",
      "Epoch 16/20\n",
      "391/391 [==============================] - 12s 30ms/step - loss: 0.7678 - accuracy: 0.7314 - val_loss: 0.8686 - val_accuracy: 0.6966\n",
      "Epoch 17/20\n",
      "391/391 [==============================] - 12s 31ms/step - loss: 0.7539 - accuracy: 0.7375 - val_loss: 0.8015 - val_accuracy: 0.7259\n",
      "Epoch 18/20\n",
      "391/391 [==============================] - 12s 31ms/step - loss: 0.7235 - accuracy: 0.7461 - val_loss: 0.8160 - val_accuracy: 0.7271\n",
      "Epoch 19/20\n",
      "391/391 [==============================] - 12s 31ms/step - loss: 0.7061 - accuracy: 0.7500 - val_loss: 0.8232 - val_accuracy: 0.7292\n",
      "Epoch 20/20\n",
      "391/391 [==============================] - 12s 31ms/step - loss: 0.6886 - accuracy: 0.7546 - val_loss: 0.8258 - val_accuracy: 0.7249\n"
     ]
    },
    {
     "data": {
      "text/plain": [
       "<keras.src.callbacks.History at 0x296cfe110>"
      ]
     },
     "execution_count": 7,
     "metadata": {},
     "output_type": "execute_result"
    }
   ],
   "source": [
    "model.fit(x_train,y_train, batch_size=128, epochs=20, validation_data=(x_test,y_test))"
   ]
  },
  {
   "cell_type": "code",
   "execution_count": 8,
   "metadata": {},
   "outputs": [
    {
     "name": "stdout",
     "output_type": "stream",
     "text": [
      "313/313 [==============================] - 2s 5ms/step - loss: 0.8258 - accuracy: 0.7249\n",
      "0.7249000072479248\n"
     ]
    }
   ],
   "source": [
    "loss, accuracy = model.evaluate(x_test,y_test)\n",
    "print(accuracy)"
   ]
  },
  {
   "cell_type": "code",
   "execution_count": null,
   "metadata": {},
   "outputs": [],
   "source": []
  }
 ],
 "metadata": {
  "kernelspec": {
   "display_name": "Python 3",
   "language": "python",
   "name": "python3"
  },
  "language_info": {
   "codemirror_mode": {
    "name": "ipython",
    "version": 3
   },
   "file_extension": ".py",
   "mimetype": "text/x-python",
   "name": "python",
   "nbconvert_exporter": "python",
   "pygments_lexer": "ipython3",
   "version": "3.11.3"
  }
 },
 "nbformat": 4,
 "nbformat_minor": 2
}
